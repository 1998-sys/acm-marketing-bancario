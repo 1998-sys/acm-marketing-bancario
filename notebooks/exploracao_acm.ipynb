{
 "cells": [
  {
   "cell_type": "markdown",
   "id": "08c2eebc",
   "metadata": {},
   "source": [
    "### Marketing Bancário\n",
    "\n",
    "\n",
    "![marketing bank image](../data/raw/dataset-cover.jpeg)\n",
    "\n",
    "\n",
    "### Contexto\n",
    "Este estudo tem como objetivo analisar o conjunto de dados Bank Marketing, que reune informações sobre campanhas de marketing direto bancárias. \n",
    "Define-se por marketing direto uma estratégia de comunicação e vendas que envolve a interação direta com o consumidor utilizando canais como e-mail, mensagems de texto, redes sociais ou ligações telefônicas que é foco utilizado.\n",
    "\n",
    "**A proposta deste estudo é avaliar a relação das variáveis qualitativas do dataset aplicando a técnica de análise e correspondência múltipla (MCA).**\n",
    "\n",
    "obs.: por se tratar uma técnica que se utiliza exclusivamente de variáveis qualitativas, para o estudo será utilizado somente variáveis qualitativas do dataset, com excessão da variáveil age (idade) que passará por um processo de categorização seguindo a respectiva regra:\n",
    "\n",
    "- 15 a 17 anos - young\n",
    "- 18 a 29 anos - young adult\n",
    "- 30 a 59 anos - Adult\n",
    "- 60 anos ou mais - Elderly\n",
    "\n",
    "\n"
   ]
  },
  {
   "cell_type": "code",
   "execution_count": 1,
   "id": "35e474e6",
   "metadata": {},
   "outputs": [],
   "source": [
    "# Carregando pacotes\n",
    "\n",
    "import pandas as pd\n",
    "import numpy as np\n",
    "from scipy import stats\n",
    "import statsmodels.api as sm\n",
    "import seaborn as sns\n",
    "import matplotlib.pyplot as plt\n",
    "from itertools import combinations\n",
    "import sys\n",
    "import os\n",
    "sys.path.append(os.path.abspath(os.path.join(os.path.dirname('__file__'), '..')))\n",
    "from src.utils import analise_univariada"
   ]
  },
  {
   "cell_type": "code",
   "execution_count": 2,
   "id": "a6ee2adb",
   "metadata": {},
   "outputs": [
    {
     "data": {
      "application/vnd.microsoft.datawrangler.viewer.v0+json": {
       "columns": [
        {
         "name": "index",
         "rawType": "int64",
         "type": "integer"
        },
        {
         "name": "age",
         "rawType": "object",
         "type": "string"
        },
        {
         "name": "job",
         "rawType": "object",
         "type": "string"
        },
        {
         "name": "marital",
         "rawType": "object",
         "type": "string"
        },
        {
         "name": "education",
         "rawType": "object",
         "type": "string"
        },
        {
         "name": "default",
         "rawType": "object",
         "type": "string"
        },
        {
         "name": "housing",
         "rawType": "object",
         "type": "string"
        },
        {
         "name": "loan",
         "rawType": "object",
         "type": "string"
        }
       ],
       "ref": "8e57837a-4af3-4913-a774-09b993a0e597",
       "rows": [
        [
         "0",
         "Adult",
         "housemaid",
         "married",
         "basic",
         "no",
         "no",
         "no"
        ],
        [
         "1",
         "Adult",
         "services",
         "married",
         "high school",
         "unknown",
         "no",
         "no"
        ],
        [
         "2",
         "Adult",
         "services",
         "married",
         "high school",
         "no",
         "yes",
         "no"
        ],
        [
         "3",
         "Adult",
         "admin.",
         "married",
         "basic",
         "no",
         "no",
         "no"
        ],
        [
         "4",
         "Adult",
         "services",
         "married",
         "high school",
         "no",
         "no",
         "yes"
        ]
       ],
       "shape": {
        "columns": 7,
        "rows": 5
       }
      },
      "text/html": [
       "<div>\n",
       "<style scoped>\n",
       "    .dataframe tbody tr th:only-of-type {\n",
       "        vertical-align: middle;\n",
       "    }\n",
       "\n",
       "    .dataframe tbody tr th {\n",
       "        vertical-align: top;\n",
       "    }\n",
       "\n",
       "    .dataframe thead th {\n",
       "        text-align: right;\n",
       "    }\n",
       "</style>\n",
       "<table border=\"1\" class=\"dataframe\">\n",
       "  <thead>\n",
       "    <tr style=\"text-align: right;\">\n",
       "      <th></th>\n",
       "      <th>age</th>\n",
       "      <th>job</th>\n",
       "      <th>marital</th>\n",
       "      <th>education</th>\n",
       "      <th>default</th>\n",
       "      <th>housing</th>\n",
       "      <th>loan</th>\n",
       "    </tr>\n",
       "  </thead>\n",
       "  <tbody>\n",
       "    <tr>\n",
       "      <th>0</th>\n",
       "      <td>Adult</td>\n",
       "      <td>housemaid</td>\n",
       "      <td>married</td>\n",
       "      <td>basic</td>\n",
       "      <td>no</td>\n",
       "      <td>no</td>\n",
       "      <td>no</td>\n",
       "    </tr>\n",
       "    <tr>\n",
       "      <th>1</th>\n",
       "      <td>Adult</td>\n",
       "      <td>services</td>\n",
       "      <td>married</td>\n",
       "      <td>high school</td>\n",
       "      <td>unknown</td>\n",
       "      <td>no</td>\n",
       "      <td>no</td>\n",
       "    </tr>\n",
       "    <tr>\n",
       "      <th>2</th>\n",
       "      <td>Adult</td>\n",
       "      <td>services</td>\n",
       "      <td>married</td>\n",
       "      <td>high school</td>\n",
       "      <td>no</td>\n",
       "      <td>yes</td>\n",
       "      <td>no</td>\n",
       "    </tr>\n",
       "    <tr>\n",
       "      <th>3</th>\n",
       "      <td>Adult</td>\n",
       "      <td>admin.</td>\n",
       "      <td>married</td>\n",
       "      <td>basic</td>\n",
       "      <td>no</td>\n",
       "      <td>no</td>\n",
       "      <td>no</td>\n",
       "    </tr>\n",
       "    <tr>\n",
       "      <th>4</th>\n",
       "      <td>Adult</td>\n",
       "      <td>services</td>\n",
       "      <td>married</td>\n",
       "      <td>high school</td>\n",
       "      <td>no</td>\n",
       "      <td>no</td>\n",
       "      <td>yes</td>\n",
       "    </tr>\n",
       "  </tbody>\n",
       "</table>\n",
       "</div>"
      ],
      "text/plain": [
       "     age        job  marital    education  default housing loan\n",
       "0  Adult  housemaid  married        basic       no      no   no\n",
       "1  Adult   services  married  high school  unknown      no   no\n",
       "2  Adult   services  married  high school       no     yes   no\n",
       "3  Adult     admin.  married        basic       no      no   no\n",
       "4  Adult   services  married  high school       no      no  yes"
      ]
     },
     "execution_count": 2,
     "metadata": {},
     "output_type": "execute_result"
    }
   ],
   "source": [
    "# carregando dados \n",
    "df_banking = pd.read_csv('../data/processed/bank_marketing_processed.csv')\n",
    "df_banking.head()"
   ]
  },
  {
   "cell_type": "code",
   "execution_count": 3,
   "id": "993b2d26",
   "metadata": {},
   "outputs": [
    {
     "data": {
      "text/plain": [
       "Index(['age', 'job', 'marital', 'education', 'default', 'housing', 'loan'], dtype='object')"
      ]
     },
     "execution_count": 3,
     "metadata": {},
     "output_type": "execute_result"
    }
   ],
   "source": [
    "# Verificando as colunas do DataFrame\n",
    "df_banking.columns"
   ]
  },
  {
   "cell_type": "markdown",
   "id": "4936d60f",
   "metadata": {},
   "source": [
    "## Dicionário de Variáveis\n",
    "\n",
    "\n",
    "|VARIÁVEL         |TRADUÇÃO             |\n",
    "|-----------------|---------------------|\n",
    "|Age              | Idade do cliente    |\n",
    "|Job              | Tipo de emprego     |\n",
    "|Marital          | Estado Civil        |\n",
    "|Education        | Nível de educação   |\n",
    "|Default          | Possui crédito em inadimplência ?|\n",
    "|Housing          | Possui empréstimo imobiliário ?|\n",
    "|loan             | Tem empréstimo pessoal ?| \n",
    "\n"
   ]
  },
  {
   "cell_type": "code",
   "execution_count": 4,
   "id": "2d508c6d",
   "metadata": {},
   "outputs": [
    {
     "data": {
      "text/plain": [
       "(41188, 7)"
      ]
     },
     "execution_count": 4,
     "metadata": {},
     "output_type": "execute_result"
    }
   ],
   "source": [
    "# Tamanho do dataset\n",
    "df_banking.shape"
   ]
  },
  {
   "cell_type": "code",
   "execution_count": 5,
   "id": "4305d0b5",
   "metadata": {},
   "outputs": [
    {
     "data": {
      "application/vnd.microsoft.datawrangler.viewer.v0+json": {
       "columns": [
        {
         "name": "index",
         "rawType": "object",
         "type": "string"
        },
        {
         "name": "0",
         "rawType": "object",
         "type": "unknown"
        }
       ],
       "ref": "8fe7d3f9-eaa1-4510-b5a4-73de4ad26a57",
       "rows": [
        [
         "age",
         "object"
        ],
        [
         "job",
         "object"
        ],
        [
         "marital",
         "object"
        ],
        [
         "education",
         "object"
        ],
        [
         "default",
         "object"
        ],
        [
         "housing",
         "object"
        ],
        [
         "loan",
         "object"
        ]
       ],
       "shape": {
        "columns": 1,
        "rows": 7
       }
      },
      "text/plain": [
       "age          object\n",
       "job          object\n",
       "marital      object\n",
       "education    object\n",
       "default      object\n",
       "housing      object\n",
       "loan         object\n",
       "dtype: object"
      ]
     },
     "execution_count": 5,
     "metadata": {},
     "output_type": "execute_result"
    }
   ],
   "source": [
    "# verificando os tipos das variáveis\n",
    "df_banking.dtypes"
   ]
  },
  {
   "cell_type": "code",
   "execution_count": 6,
   "id": "450bb1d5",
   "metadata": {},
   "outputs": [
    {
     "data": {
      "application/vnd.microsoft.datawrangler.viewer.v0+json": {
       "columns": [
        {
         "name": "index",
         "rawType": "object",
         "type": "string"
        },
        {
         "name": "0",
         "rawType": "float64",
         "type": "float"
        }
       ],
       "ref": "4980df9c-6653-4208-9595-bdda458c0d65",
       "rows": [
        [
         "age",
         "0.0"
        ],
        [
         "job",
         "0.0"
        ],
        [
         "marital",
         "0.0"
        ],
        [
         "education",
         "0.0"
        ],
        [
         "default",
         "0.0"
        ],
        [
         "housing",
         "0.0"
        ],
        [
         "loan",
         "0.0"
        ]
       ],
       "shape": {
        "columns": 1,
        "rows": 7
       }
      },
      "text/plain": [
       "age          0.0\n",
       "job          0.0\n",
       "marital      0.0\n",
       "education    0.0\n",
       "default      0.0\n",
       "housing      0.0\n",
       "loan         0.0\n",
       "dtype: float64"
      ]
     },
     "execution_count": 6,
     "metadata": {},
     "output_type": "execute_result"
    }
   ],
   "source": [
    "# Dados faltantes\n",
    "df_banking.isnull().sum()/len(df_banking)"
   ]
  },
  {
   "cell_type": "markdown",
   "id": "746f3593",
   "metadata": {},
   "source": [
    "De acordo com a célula anterior o dataset não possui valores faltantes em nenhuma das variáveis "
   ]
  },
  {
   "cell_type": "markdown",
   "id": "c3752463",
   "metadata": {},
   "source": [
    "## Análise univariada das variávies"
   ]
  },
  {
   "cell_type": "code",
   "execution_count": 7,
   "id": "9e55eb61",
   "metadata": {},
   "outputs": [
    {
     "name": "stdout",
     "output_type": "stream",
     "text": [
      "Tabela de Frequencia age\n"
     ]
    },
    {
     "data": {
      "application/vnd.microsoft.datawrangler.viewer.v0+json": {
       "columns": [
        {
         "name": "index",
         "rawType": "int64",
         "type": "integer"
        },
        {
         "name": "age",
         "rawType": "object",
         "type": "string"
        },
        {
         "name": "Frequency",
         "rawType": "int64",
         "type": "integer"
        },
        {
         "name": "Percent",
         "rawType": "float64",
         "type": "float"
        }
       ],
       "ref": "091c56a8-e5aa-4ab1-b6e7-81936c024675",
       "rows": [
        [
         "0",
         "Adult",
         "34326",
         "83.34"
        ],
        [
         "1",
         "young adult",
         "5664",
         "13.75"
        ],
        [
         "2",
         "Elderly",
         "1193",
         "2.9"
        ],
        [
         "3",
         "young",
         "5",
         "0.01"
        ],
        [
         "4",
         "Total",
         "41188",
         "100.0"
        ]
       ],
       "shape": {
        "columns": 3,
        "rows": 5
       }
      },
      "text/html": [
       "<div>\n",
       "<style scoped>\n",
       "    .dataframe tbody tr th:only-of-type {\n",
       "        vertical-align: middle;\n",
       "    }\n",
       "\n",
       "    .dataframe tbody tr th {\n",
       "        vertical-align: top;\n",
       "    }\n",
       "\n",
       "    .dataframe thead th {\n",
       "        text-align: right;\n",
       "    }\n",
       "</style>\n",
       "<table border=\"1\" class=\"dataframe\">\n",
       "  <thead>\n",
       "    <tr style=\"text-align: right;\">\n",
       "      <th></th>\n",
       "      <th>age</th>\n",
       "      <th>Frequency</th>\n",
       "      <th>Percent</th>\n",
       "    </tr>\n",
       "  </thead>\n",
       "  <tbody>\n",
       "    <tr>\n",
       "      <th>0</th>\n",
       "      <td>Adult</td>\n",
       "      <td>34326</td>\n",
       "      <td>83.34</td>\n",
       "    </tr>\n",
       "    <tr>\n",
       "      <th>1</th>\n",
       "      <td>young adult</td>\n",
       "      <td>5664</td>\n",
       "      <td>13.75</td>\n",
       "    </tr>\n",
       "    <tr>\n",
       "      <th>2</th>\n",
       "      <td>Elderly</td>\n",
       "      <td>1193</td>\n",
       "      <td>2.90</td>\n",
       "    </tr>\n",
       "    <tr>\n",
       "      <th>3</th>\n",
       "      <td>young</td>\n",
       "      <td>5</td>\n",
       "      <td>0.01</td>\n",
       "    </tr>\n",
       "    <tr>\n",
       "      <th>4</th>\n",
       "      <td>Total</td>\n",
       "      <td>41188</td>\n",
       "      <td>100.00</td>\n",
       "    </tr>\n",
       "  </tbody>\n",
       "</table>\n",
       "</div>"
      ],
      "text/plain": [
       "           age  Frequency  Percent\n",
       "0        Adult      34326    83.34\n",
       "1  young adult       5664    13.75\n",
       "2      Elderly       1193     2.90\n",
       "3        young          5     0.01\n",
       "4        Total      41188   100.00"
      ]
     },
     "metadata": {},
     "output_type": "display_data"
    },
    {
     "data": {
      "image/png": "[encoded data removed]",
      "text/plain": [
       "<Figure size 1000x500 with 1 Axes>"
      ]
     },
     "metadata": {},
     "output_type": "display_data"
    }
   ],
   "source": [
    "analise_univariada(df_banking, 'age')"
   ]
  },
  {
   "cell_type": "code",
   "execution_count": 8,
   "id": "5dc3d169",
   "metadata": {},
   "outputs": [
    {
     "name": "stdout",
     "output_type": "stream",
     "text": [
      "Tabela de Frequencia job\n"
     ]
    },
    {
     "data": {
      "application/vnd.microsoft.datawrangler.viewer.v0+json": {
       "columns": [
        {
         "name": "index",
         "rawType": "int64",
         "type": "integer"
        },
        {
         "name": "job",
         "rawType": "object",
         "type": "string"
        },
        {
         "name": "Frequency",
         "rawType": "int64",
         "type": "integer"
        },
        {
         "name": "Percent",
         "rawType": "float64",
         "type": "float"
        }
       ],
       "ref": "b7af1c5b-c0e0-4a4a-8924-e7dfbcea61f8",
       "rows": [
        [
         "0",
         "admin.",
         "10422",
         "25.3"
        ],
        [
         "1",
         "blue-collar",
         "9254",
         "22.47"
        ],
        [
         "2",
         "technician",
         "6743",
         "16.37"
        ],
        [
         "3",
         "services",
         "3969",
         "9.64"
        ],
        [
         "4",
         "management",
         "2924",
         "7.1"
        ],
        [
         "5",
         "retired",
         "1720",
         "4.18"
        ],
        [
         "6",
         "entrepreneur",
         "1456",
         "3.54"
        ],
        [
         "7",
         "self-employed",
         "1421",
         "3.45"
        ],
        [
         "8",
         "housemaid",
         "1060",
         "2.57"
        ],
        [
         "9",
         "unemployed",
         "1014",
         "2.46"
        ],
        [
         "10",
         "student",
         "875",
         "2.12"
        ],
        [
         "11",
         "unknown",
         "330",
         "0.8"
        ],
        [
         "12",
         "Total",
         "41188",
         "100.0"
        ]
       ],
       "shape": {
        "columns": 3,
        "rows": 13
       }
      },
      "text/html": [
       "<div>\n",
       "<style scoped>\n",
       "    .dataframe tbody tr th:only-of-type {\n",
       "        vertical-align: middle;\n",
       "    }\n",
       "\n",
       "    .dataframe tbody tr th {\n",
       "        vertical-align: top;\n",
       "    }\n",
       "\n",
       "    .dataframe thead th {\n",
       "        text-align: right;\n",
       "    }\n",
       "</style>\n",
       "<table border=\"1\" class=\"dataframe\">\n",
       "  <thead>\n",
       "    <tr style=\"text-align: right;\">\n",
       "      <th></th>\n",
       "      <th>job</th>\n",
       "      <th>Frequency</th>\n",
       "      <th>Percent</th>\n",
       "    </tr>\n",
       "  </thead>\n",
       "  <tbody>\n",
       "    <tr>\n",
       "      <th>0</th>\n",
       "      <td>admin.</td>\n",
       "      <td>10422</td>\n",
       "      <td>25.30</td>\n",
       "    </tr>\n",
       "    <tr>\n",
       "      <th>1</th>\n",
       "      <td>blue-collar</td>\n",
       "      <td>9254</td>\n",
       "      <td>22.47</td>\n",
       "    </tr>\n",
       "    <tr>\n",
       "      <th>2</th>\n",
       "      <td>technician</td>\n",
       "      <td>6743</td>\n",
       "      <td>16.37</td>\n",
       "    </tr>\n",
       "    <tr>\n",
       "      <th>3</th>\n",
       "      <td>services</td>\n",
       "      <td>3969</td>\n",
       "      <td>9.64</td>\n",
       "    </tr>\n",
       "    <tr>\n",
       "      <th>4</th>\n",
       "      <td>management</td>\n",
       "      <td>2924</td>\n",
       "      <td>7.10</td>\n",
       "    </tr>\n",
       "    <tr>\n",
       "      <th>5</th>\n",
       "      <td>retired</td>\n",
       "      <td>1720</td>\n",
       "      <td>4.18</td>\n",
       "    </tr>\n",
       "    <tr>\n",
       "      <th>6</th>\n",
       "      <td>entrepreneur</td>\n",
       "      <td>1456</td>\n",
       "      <td>3.54</td>\n",
       "    </tr>\n",
       "    <tr>\n",
       "      <th>7</th>\n",
       "      <td>self-employed</td>\n",
       "      <td>1421</td>\n",
       "      <td>3.45</td>\n",
       "    </tr>\n",
       "    <tr>\n",
       "      <th>8</th>\n",
       "      <td>housemaid</td>\n",
       "      <td>1060</td>\n",
       "      <td>2.57</td>\n",
       "    </tr>\n",
       "    <tr>\n",
       "      <th>9</th>\n",
       "      <td>unemployed</td>\n",
       "      <td>1014</td>\n",
       "      <td>2.46</td>\n",
       "    </tr>\n",
       "    <tr>\n",
       "      <th>10</th>\n",
       "      <td>student</td>\n",
       "      <td>875</td>\n",
       "      <td>2.12</td>\n",
       "    </tr>\n",
       "    <tr>\n",
       "      <th>11</th>\n",
       "      <td>unknown</td>\n",
       "      <td>330</td>\n",
       "      <td>0.80</td>\n",
       "    </tr>\n",
       "    <tr>\n",
       "      <th>12</th>\n",
       "      <td>Total</td>\n",
       "      <td>41188</td>\n",
       "      <td>100.00</td>\n",
       "    </tr>\n",
       "  </tbody>\n",
       "</table>\n",
       "</div>"
      ],
      "text/plain": [
       "              job  Frequency  Percent\n",
       "0          admin.      10422    25.30\n",
       "1     blue-collar       9254    22.47\n",
       "2      technician       6743    16.37\n",
       "3        services       3969     9.64\n",
       "4      management       2924     7.10\n",
       "5         retired       1720     4.18\n",
       "6    entrepreneur       1456     3.54\n",
       "7   self-employed       1421     3.45\n",
       "8       housemaid       1060     2.57\n",
       "9      unemployed       1014     2.46\n",
       "10        student        875     2.12\n",
       "11        unknown        330     0.80\n",
       "12          Total      41188   100.00"
      ]
     },
     "metadata": {},
     "output_type": "display_data"
    },
    {
     "data": {
      "image/png": "[encoded data removed]",
      "text/plain": [
       "<Figure size 1000x500 with 1 Axes>"
      ]
     },
     "metadata": {},
     "output_type": "display_data"
    }
   ],
   "source": [
    "analise_univariada(df_banking, 'job')"
   ]
  },
  {
   "cell_type": "code",
   "execution_count": 9,
   "id": "e938bb23",
   "metadata": {},
   "outputs": [
    {
     "name": "stdout",
     "output_type": "stream",
     "text": [
      "Tabela de Frequencia marital\n"
     ]
    },
    {
     "data": {
      "application/vnd.microsoft.datawrangler.viewer.v0+json": {
       "columns": [
        {
         "name": "index",
         "rawType": "int64",
         "type": "integer"
        },
        {
         "name": "marital",
         "rawType": "object",
         "type": "string"
        },
        {
         "name": "Frequency",
         "rawType": "int64",
         "type": "integer"
        },
        {
         "name": "Percent",
         "rawType": "float64",
         "type": "float"
        }
       ],
       "ref": "4cc10081-fb1c-4780-89ba-10b0f46d49f2",
       "rows": [
        [
         "0",
         "married",
         "24928",
         "60.52"
        ],
        [
         "1",
         "single",
         "11568",
         "28.09"
        ],
        [
         "2",
         "divorced",
         "4612",
         "11.2"
        ],
        [
         "3",
         "unknown",
         "80",
         "0.19"
        ],
        [
         "4",
         "Total",
         "41188",
         "100.0"
        ]
       ],
       "shape": {
        "columns": 3,
        "rows": 5
       }
      },
      "text/html": [
       "<div>\n",
       "<style scoped>\n",
       "    .dataframe tbody tr th:only-of-type {\n",
       "        vertical-align: middle;\n",
       "    }\n",
       "\n",
       "    .dataframe tbody tr th {\n",
       "        vertical-align: top;\n",
       "    }\n",
       "\n",
       "    .dataframe thead th {\n",
       "        text-align: right;\n",
       "    }\n",
       "</style>\n",
       "<table border=\"1\" class=\"dataframe\">\n",
       "  <thead>\n",
       "    <tr style=\"text-align: right;\">\n",
       "      <th></th>\n",
       "      <th>marital</th>\n",
       "      <th>Frequency</th>\n",
       "      <th>Percent</th>\n",
       "    </tr>\n",
       "  </thead>\n",
       "  <tbody>\n",
       "    <tr>\n",
       "      <th>0</th>\n",
       "      <td>married</td>\n",
       "      <td>24928</td>\n",
       "      <td>60.52</td>\n",
       "    </tr>\n",
       "    <tr>\n",
       "      <th>1</th>\n",
       "      <td>single</td>\n",
       "      <td>11568</td>\n",
       "      <td>28.09</td>\n",
       "    </tr>\n",
       "    <tr>\n",
       "      <th>2</th>\n",
       "      <td>divorced</td>\n",
       "      <td>4612</td>\n",
       "      <td>11.20</td>\n",
       "    </tr>\n",
       "    <tr>\n",
       "      <th>3</th>\n",
       "      <td>unknown</td>\n",
       "      <td>80</td>\n",
       "      <td>0.19</td>\n",
       "    </tr>\n",
       "    <tr>\n",
       "      <th>4</th>\n",
       "      <td>Total</td>\n",
       "      <td>41188</td>\n",
       "      <td>100.00</td>\n",
       "    </tr>\n",
       "  </tbody>\n",
       "</table>\n",
       "</div>"
      ],
      "text/plain": [
       "    marital  Frequency  Percent\n",
       "0   married      24928    60.52\n",
       "1    single      11568    28.09\n",
       "2  divorced       4612    11.20\n",
       "3   unknown         80     0.19\n",
       "4     Total      41188   100.00"
      ]
     },
     "metadata": {},
     "output_type": "display_data"
    },
    {
     "data": {
      "image/png": "[encoded data removed]",
      "text/plain": [
       "<Figure size 1000x500 with 1 Axes>"
      ]
     },
     "metadata": {},
     "output_type": "display_data"
    }
   ],
   "source": [
    "analise_univariada(df_banking, 'marital')"
   ]
  },
  {
   "cell_type": "code",
   "execution_count": 10,
   "id": "38daa883",
   "metadata": {},
   "outputs": [
    {
     "name": "stdout",
     "output_type": "stream",
     "text": [
      "Tabela de Frequencia education\n"
     ]
    },
    {
     "data": {
      "application/vnd.microsoft.datawrangler.viewer.v0+json": {
       "columns": [
        {
         "name": "index",
         "rawType": "int64",
         "type": "integer"
        },
        {
         "name": "education",
         "rawType": "object",
         "type": "string"
        },
        {
         "name": "Frequency",
         "rawType": "int64",
         "type": "integer"
        },
        {
         "name": "Percent",
         "rawType": "float64",
         "type": "float"
        }
       ],
       "ref": "d3687f0a-e2a5-4196-a319-aaf5fc072acc",
       "rows": [
        [
         "0",
         "basic",
         "12513",
         "30.38"
        ],
        [
         "1",
         "university degree",
         "12168",
         "29.54"
        ],
        [
         "2",
         "high school",
         "9515",
         "23.1"
        ],
        [
         "3",
         "professional course",
         "5243",
         "12.73"
        ],
        [
         "4",
         "unknown",
         "1731",
         "4.2"
        ],
        [
         "5",
         "illiterate",
         "18",
         "0.04"
        ],
        [
         "6",
         "Total",
         "41188",
         "100.0"
        ]
       ],
       "shape": {
        "columns": 3,
        "rows": 7
       }
      },
      "text/html": [
       "<div>\n",
       "<style scoped>\n",
       "    .dataframe tbody tr th:only-of-type {\n",
       "        vertical-align: middle;\n",
       "    }\n",
       "\n",
       "    .dataframe tbody tr th {\n",
       "        vertical-align: top;\n",
       "    }\n",
       "\n",
       "    .dataframe thead th {\n",
       "        text-align: right;\n",
       "    }\n",
       "</style>\n",
       "<table border=\"1\" class=\"dataframe\">\n",
       "  <thead>\n",
       "    <tr style=\"text-align: right;\">\n",
       "      <th></th>\n",
       "      <th>education</th>\n",
       "      <th>Frequency</th>\n",
       "      <th>Percent</th>\n",
       "    </tr>\n",
       "  </thead>\n",
       "  <tbody>\n",
       "    <tr>\n",
       "      <th>0</th>\n",
       "      <td>basic</td>\n",
       "      <td>12513</td>\n",
       "      <td>30.38</td>\n",
       "    </tr>\n",
       "    <tr>\n",
       "      <th>1</th>\n",
       "      <td>university degree</td>\n",
       "      <td>12168</td>\n",
       "      <td>29.54</td>\n",
       "    </tr>\n",
       "    <tr>\n",
       "      <th>2</th>\n",
       "      <td>high school</td>\n",
       "      <td>9515</td>\n",
       "      <td>23.10</td>\n",
       "    </tr>\n",
       "    <tr>\n",
       "      <th>3</th>\n",
       "      <td>professional course</td>\n",
       "      <td>5243</td>\n",
       "      <td>12.73</td>\n",
       "    </tr>\n",
       "    <tr>\n",
       "      <th>4</th>\n",
       "      <td>unknown</td>\n",
       "      <td>1731</td>\n",
       "      <td>4.20</td>\n",
       "    </tr>\n",
       "    <tr>\n",
       "      <th>5</th>\n",
       "      <td>illiterate</td>\n",
       "      <td>18</td>\n",
       "      <td>0.04</td>\n",
       "    </tr>\n",
       "    <tr>\n",
       "      <th>6</th>\n",
       "      <td>Total</td>\n",
       "      <td>41188</td>\n",
       "      <td>100.00</td>\n",
       "    </tr>\n",
       "  </tbody>\n",
       "</table>\n",
       "</div>"
      ],
      "text/plain": [
       "             education  Frequency  Percent\n",
       "0                basic      12513    30.38\n",
       "1    university degree      12168    29.54\n",
       "2          high school       9515    23.10\n",
       "3  professional course       5243    12.73\n",
       "4              unknown       1731     4.20\n",
       "5           illiterate         18     0.04\n",
       "6                Total      41188   100.00"
      ]
     },
     "metadata": {},
     "output_type": "display_data"
    },
    {
     "data": {
      "image/png": "[encoded data removed]",
      "text/plain": [
       "<Figure size 1000x500 with 1 Axes>"
      ]
     },
     "metadata": {},
     "output_type": "display_data"
    }
   ],
   "source": [
    "analise_univariada(df_banking, 'education')"
   ]
  },
  {
   "cell_type": "code",
   "execution_count": 11,
   "id": "bdcd8aac",
   "metadata": {},
   "outputs": [
    {
     "name": "stdout",
     "output_type": "stream",
     "text": [
      "Tabela de Frequencia default\n"
     ]
    },
    {
     "data": {
      "application/vnd.microsoft.datawrangler.viewer.v0+json": {
       "columns": [
        {
         "name": "index",
         "rawType": "int64",
         "type": "integer"
        },
        {
         "name": "default",
         "rawType": "object",
         "type": "string"
        },
        {
         "name": "Frequency",
         "rawType": "int64",
         "type": "integer"
        },
        {
         "name": "Percent",
         "rawType": "float64",
         "type": "float"
        }
       ],
       "ref": "e29523d0-7ea2-4df2-9198-96119a90d0ed",
       "rows": [
        [
         "0",
         "no",
         "32588",
         "79.12"
        ],
        [
         "1",
         "unknown",
         "8597",
         "20.87"
        ],
        [
         "2",
         "yes",
         "3",
         "0.01"
        ],
        [
         "3",
         "Total",
         "41188",
         "100.0"
        ]
       ],
       "shape": {
        "columns": 3,
        "rows": 4
       }
      },
      "text/html": [
       "<div>\n",
       "<style scoped>\n",
       "    .dataframe tbody tr th:only-of-type {\n",
       "        vertical-align: middle;\n",
       "    }\n",
       "\n",
       "    .dataframe tbody tr th {\n",
       "        vertical-align: top;\n",
       "    }\n",
       "\n",
       "    .dataframe thead th {\n",
       "        text-align: right;\n",
       "    }\n",
       "</style>\n",
       "<table border=\"1\" class=\"dataframe\">\n",
       "  <thead>\n",
       "    <tr style=\"text-align: right;\">\n",
       "      <th></th>\n",
       "      <th>default</th>\n",
       "      <th>Frequency</th>\n",
       "      <th>Percent</th>\n",
       "    </tr>\n",
       "  </thead>\n",
       "  <tbody>\n",
       "    <tr>\n",
       "      <th>0</th>\n",
       "      <td>no</td>\n",
       "      <td>32588</td>\n",
       "      <td>79.12</td>\n",
       "    </tr>\n",
       "    <tr>\n",
       "      <th>1</th>\n",
       "      <td>unknown</td>\n",
       "      <td>8597</td>\n",
       "      <td>20.87</td>\n",
       "    </tr>\n",
       "    <tr>\n",
       "      <th>2</th>\n",
       "      <td>yes</td>\n",
       "      <td>3</td>\n",
       "      <td>0.01</td>\n",
       "    </tr>\n",
       "    <tr>\n",
       "      <th>3</th>\n",
       "      <td>Total</td>\n",
       "      <td>41188</td>\n",
       "      <td>100.00</td>\n",
       "    </tr>\n",
       "  </tbody>\n",
       "</table>\n",
       "</div>"
      ],
      "text/plain": [
       "   default  Frequency  Percent\n",
       "0       no      32588    79.12\n",
       "1  unknown       8597    20.87\n",
       "2      yes          3     0.01\n",
       "3    Total      41188   100.00"
      ]
     },
     "metadata": {},
     "output_type": "display_data"
    },
    {
     "data": {
      "image/png": "[encoded data removed]",
      "text/plain": [
       "<Figure size 1000x500 with 1 Axes>"
      ]
     },
     "metadata": {},
     "output_type": "display_data"
    }
   ],
   "source": [
    "analise_univariada(df_banking, 'default')"
   ]
  },
  {
   "cell_type": "code",
   "execution_count": 12,
   "id": "c46aa8e5",
   "metadata": {},
   "outputs": [
    {
     "name": "stdout",
     "output_type": "stream",
     "text": [
      "Tabela de Frequencia housing\n"
     ]
    },
    {
     "data": {
      "application/vnd.microsoft.datawrangler.viewer.v0+json": {
       "columns": [
        {
         "name": "index",
         "rawType": "int64",
         "type": "integer"
        },
        {
         "name": "housing",
         "rawType": "object",
         "type": "string"
        },
        {
         "name": "Frequency",
         "rawType": "int64",
         "type": "integer"
        },
        {
         "name": "Percent",
         "rawType": "float64",
         "type": "float"
        }
       ],
       "ref": "0a95ad7d-b10d-4109-a121-96cb48fd72ed",
       "rows": [
        [
         "0",
         "yes",
         "21576",
         "52.38"
        ],
        [
         "1",
         "no",
         "18622",
         "45.21"
        ],
        [
         "2",
         "unknown",
         "990",
         "2.4"
        ],
        [
         "3",
         "Total",
         "41188",
         "100.0"
        ]
       ],
       "shape": {
        "columns": 3,
        "rows": 4
       }
      },
      "text/html": [
       "<div>\n",
       "<style scoped>\n",
       "    .dataframe tbody tr th:only-of-type {\n",
       "        vertical-align: middle;\n",
       "    }\n",
       "\n",
       "    .dataframe tbody tr th {\n",
       "        vertical-align: top;\n",
       "    }\n",
       "\n",
       "    .dataframe thead th {\n",
       "        text-align: right;\n",
       "    }\n",
       "</style>\n",
       "<table border=\"1\" class=\"dataframe\">\n",
       "  <thead>\n",
       "    <tr style=\"text-align: right;\">\n",
       "      <th></th>\n",
       "      <th>housing</th>\n",
       "      <th>Frequency</th>\n",
       "      <th>Percent</th>\n",
       "    </tr>\n",
       "  </thead>\n",
       "  <tbody>\n",
       "    <tr>\n",
       "      <th>0</th>\n",
       "      <td>yes</td>\n",
       "      <td>21576</td>\n",
       "      <td>52.38</td>\n",
       "    </tr>\n",
       "    <tr>\n",
       "      <th>1</th>\n",
       "      <td>no</td>\n",
       "      <td>18622</td>\n",
       "      <td>45.21</td>\n",
       "    </tr>\n",
       "    <tr>\n",
       "      <th>2</th>\n",
       "      <td>unknown</td>\n",
       "      <td>990</td>\n",
       "      <td>2.40</td>\n",
       "    </tr>\n",
       "    <tr>\n",
       "      <th>3</th>\n",
       "      <td>Total</td>\n",
       "      <td>41188</td>\n",
       "      <td>100.00</td>\n",
       "    </tr>\n",
       "  </tbody>\n",
       "</table>\n",
       "</div>"
      ],
      "text/plain": [
       "   housing  Frequency  Percent\n",
       "0      yes      21576    52.38\n",
       "1       no      18622    45.21\n",
       "2  unknown        990     2.40\n",
       "3    Total      41188   100.00"
      ]
     },
     "metadata": {},
     "output_type": "display_data"
    },
    {
     "data": {
      "image/png": "[encoded data removed]",
      "text/plain": [
       "<Figure size 1000x500 with 1 Axes>"
      ]
     },
     "metadata": {},
     "output_type": "display_data"
    }
   ],
   "source": [
    "analise_univariada(df_banking, 'housing')"
   ]
  },
  {
   "cell_type": "code",
   "execution_count": 13,
   "id": "365d0df5",
   "metadata": {},
   "outputs": [
    {
     "name": "stdout",
     "output_type": "stream",
     "text": [
      "Tabela de Frequencia loan\n"
     ]
    },
    {
     "data": {
      "application/vnd.microsoft.datawrangler.viewer.v0+json": {
       "columns": [
        {
         "name": "index",
         "rawType": "int64",
         "type": "integer"
        },
        {
         "name": "loan",
         "rawType": "object",
         "type": "string"
        },
        {
         "name": "Frequency",
         "rawType": "int64",
         "type": "integer"
        },
        {
         "name": "Percent",
         "rawType": "float64",
         "type": "float"
        }
       ],
       "ref": "627cff41-c5c0-4629-bb5b-8cb624a4a768",
       "rows": [
        [
         "0",
         "no",
         "33950",
         "82.43"
        ],
        [
         "1",
         "yes",
         "6248",
         "15.17"
        ],
        [
         "2",
         "unknown",
         "990",
         "2.4"
        ],
        [
         "3",
         "Total",
         "41188",
         "100.0"
        ]
       ],
       "shape": {
        "columns": 3,
        "rows": 4
       }
      },
      "text/html": [
       "<div>\n",
       "<style scoped>\n",
       "    .dataframe tbody tr th:only-of-type {\n",
       "        vertical-align: middle;\n",
       "    }\n",
       "\n",
       "    .dataframe tbody tr th {\n",
       "        vertical-align: top;\n",
       "    }\n",
       "\n",
       "    .dataframe thead th {\n",
       "        text-align: right;\n",
       "    }\n",
       "</style>\n",
       "<table border=\"1\" class=\"dataframe\">\n",
       "  <thead>\n",
       "    <tr style=\"text-align: right;\">\n",
       "      <th></th>\n",
       "      <th>loan</th>\n",
       "      <th>Frequency</th>\n",
       "      <th>Percent</th>\n",
       "    </tr>\n",
       "  </thead>\n",
       "  <tbody>\n",
       "    <tr>\n",
       "      <th>0</th>\n",
       "      <td>no</td>\n",
       "      <td>33950</td>\n",
       "      <td>82.43</td>\n",
       "    </tr>\n",
       "    <tr>\n",
       "      <th>1</th>\n",
       "      <td>yes</td>\n",
       "      <td>6248</td>\n",
       "      <td>15.17</td>\n",
       "    </tr>\n",
       "    <tr>\n",
       "      <th>2</th>\n",
       "      <td>unknown</td>\n",
       "      <td>990</td>\n",
       "      <td>2.40</td>\n",
       "    </tr>\n",
       "    <tr>\n",
       "      <th>3</th>\n",
       "      <td>Total</td>\n",
       "      <td>41188</td>\n",
       "      <td>100.00</td>\n",
       "    </tr>\n",
       "  </tbody>\n",
       "</table>\n",
       "</div>"
      ],
      "text/plain": [
       "      loan  Frequency  Percent\n",
       "0       no      33950    82.43\n",
       "1      yes       6248    15.17\n",
       "2  unknown        990     2.40\n",
       "3    Total      41188   100.00"
      ]
     },
     "metadata": {},
     "output_type": "display_data"
    },
    {
     "data": {
      "image/png": "[encoded data removed]",
      "text/plain": [
       "<Figure size 1000x500 with 1 Axes>"
      ]
     },
     "metadata": {},
     "output_type": "display_data"
    }
   ],
   "source": [
    "analise_univariada(df_banking, 'loan')"
   ]
  }
 ],
 "metadata": {
  "kernelspec": {
   "display_name": "venv",
   "language": "python",
   "name": "python3"
  },
  "language_info": {
   "codemirror_mode": {
    "name": "ipython",
    "version": 3
   },
   "file_extension": ".py",
   "mimetype": "text/x-python",
   "name": "python",
   "nbconvert_exporter": "python",
   "pygments_lexer": "ipython3",
   "version": "3.12.4"
  }
 },
 "nbformat": 4,
 "nbformat_minor": 5
}
