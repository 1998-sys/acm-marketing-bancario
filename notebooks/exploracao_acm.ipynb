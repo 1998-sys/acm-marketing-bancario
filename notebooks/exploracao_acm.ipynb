{
 "cells": [
  {
   "cell_type": "markdown",
   "id": "08c2eebc",
   "metadata": {},
   "source": [
    "### Marketing Bancário\n",
    "\n",
    "\n",
    "![marketing bank image](../data/raw/dataset-cover.jpeg)\n",
    "\n",
    "\n",
    "### Contexto\n",
    "Este estudo tem como objetivo analisar o conjunto de dados Bank Marketing, que reune informações sobre campanhas de marketing direto bancárias. \n",
    "Define-se por marketing direto uma estratégia de comunicação e vendas que envolve a interação direta com o consumidor utilizando canais como e-mail, mensagems de texto, redes sociais ou ligações telefônicas que é foco utilizado.\n",
    "\n",
    "**A proposta deste estudo é avaliar a relação das variáveis qualitativas do dataset aplicando a técnica de análise e correspondência múltipla (MCA).**\n",
    "\n",
    "obs.: por se tratar uma técnica que se utiliza exclusivamente de variáveis qualitativas, para o estudo será utilizado somente variáveis qualitativas do dataset, com excessão da variáveil age (idade) que passará por um processo de categorização seguindo a respectiva regra:\n",
    "\n",
    "- 15 a 17 anos - young\n",
    "- 18 a 29 anos - young adult\n",
    "- 30 a 59 anos - Adult\n",
    "- 60 anos ou mais - Elderly\n",
    "\n",
    "\n"
   ]
  },
  {
   "cell_type": "code",
   "execution_count": 1,
   "id": "35e474e6",
   "metadata": {},
   "outputs": [],
   "source": [
    "# Carregando pacotes\n",
    "\n",
    "import pandas as pd\n",
    "import numpy as np\n",
    "from scipy import stats\n",
    "import statsmodels.api as sm\n",
    "import seaborn as sns\n",
    "import matplotlib.pyplot as plt\n",
    "from itertools import combinations\n",
    "import sys\n",
    "import os\n",
    "sys.path.append(os.path.abspath(os.path.join(os.path.dirname('__file__'), '..')))\n",
    "from src.utils import analise_univariada"
   ]
  },
  {
   "cell_type": "code",
   "execution_count": 2,
   "id": "a6ee2adb",
   "metadata": {},
   "outputs": [
    {
     "data": {
      "application/vnd.microsoft.datawrangler.viewer.v0+json": {
       "columns": [
        {
         "name": "index",
         "rawType": "int64",
         "type": "integer"
        },
        {
         "name": "age",
         "rawType": "object",
         "type": "string"
        },
        {
         "name": "job",
         "rawType": "object",
         "type": "string"
        },
        {
         "name": "marital",
         "rawType": "object",
         "type": "string"
        },
        {
         "name": "education",
         "rawType": "object",
         "type": "string"
        },
        {
         "name": "default",
         "rawType": "object",
         "type": "string"
        },
        {
         "name": "housing",
         "rawType": "object",
         "type": "string"
        },
        {
         "name": "loan",
         "rawType": "object",
         "type": "string"
        }
       ],
       "ref": "e663d754-6fbd-49b6-85c2-c8fc97ae6868",
       "rows": [
        [
         "0",
         "Adult",
         "housemaid",
         "married",
         "basic",
         "no",
         "no",
         "no"
        ],
        [
         "1",
         "Adult",
         "services",
         "married",
         "high school",
         "unknown",
         "no",
         "no"
        ],
        [
         "2",
         "Adult",
         "services",
         "married",
         "high school",
         "no",
         "yes",
         "no"
        ],
        [
         "3",
         "Adult",
         "admin.",
         "married",
         "basic",
         "no",
         "no",
         "no"
        ],
        [
         "4",
         "Adult",
         "services",
         "married",
         "high school",
         "no",
         "no",
         "yes"
        ]
       ],
       "shape": {
        "columns": 7,
        "rows": 5
       }
      },
      "text/html": [
       "<div>\n",
       "<style scoped>\n",
       "    .dataframe tbody tr th:only-of-type {\n",
       "        vertical-align: middle;\n",
       "    }\n",
       "\n",
       "    .dataframe tbody tr th {\n",
       "        vertical-align: top;\n",
       "    }\n",
       "\n",
       "    .dataframe thead th {\n",
       "        text-align: right;\n",
       "    }\n",
       "</style>\n",
       "<table border=\"1\" class=\"dataframe\">\n",
       "  <thead>\n",
       "    <tr style=\"text-align: right;\">\n",
       "      <th></th>\n",
       "      <th>age</th>\n",
       "      <th>job</th>\n",
       "      <th>marital</th>\n",
       "      <th>education</th>\n",
       "      <th>default</th>\n",
       "      <th>housing</th>\n",
       "      <th>loan</th>\n",
       "    </tr>\n",
       "  </thead>\n",
       "  <tbody>\n",
       "    <tr>\n",
       "      <th>0</th>\n",
       "      <td>Adult</td>\n",
       "      <td>housemaid</td>\n",
       "      <td>married</td>\n",
       "      <td>basic</td>\n",
       "      <td>no</td>\n",
       "      <td>no</td>\n",
       "      <td>no</td>\n",
       "    </tr>\n",
       "    <tr>\n",
       "      <th>1</th>\n",
       "      <td>Adult</td>\n",
       "      <td>services</td>\n",
       "      <td>married</td>\n",
       "      <td>high school</td>\n",
       "      <td>unknown</td>\n",
       "      <td>no</td>\n",
       "      <td>no</td>\n",
       "    </tr>\n",
       "    <tr>\n",
       "      <th>2</th>\n",
       "      <td>Adult</td>\n",
       "      <td>services</td>\n",
       "      <td>married</td>\n",
       "      <td>high school</td>\n",
       "      <td>no</td>\n",
       "      <td>yes</td>\n",
       "      <td>no</td>\n",
       "    </tr>\n",
       "    <tr>\n",
       "      <th>3</th>\n",
       "      <td>Adult</td>\n",
       "      <td>admin.</td>\n",
       "      <td>married</td>\n",
       "      <td>basic</td>\n",
       "      <td>no</td>\n",
       "      <td>no</td>\n",
       "      <td>no</td>\n",
       "    </tr>\n",
       "    <tr>\n",
       "      <th>4</th>\n",
       "      <td>Adult</td>\n",
       "      <td>services</td>\n",
       "      <td>married</td>\n",
       "      <td>high school</td>\n",
       "      <td>no</td>\n",
       "      <td>no</td>\n",
       "      <td>yes</td>\n",
       "    </tr>\n",
       "  </tbody>\n",
       "</table>\n",
       "</div>"
      ],
      "text/plain": [
       "     age        job  marital    education  default housing loan\n",
       "0  Adult  housemaid  married        basic       no      no   no\n",
       "1  Adult   services  married  high school  unknown      no   no\n",
       "2  Adult   services  married  high school       no     yes   no\n",
       "3  Adult     admin.  married        basic       no      no   no\n",
       "4  Adult   services  married  high school       no      no  yes"
      ]
     },
     "execution_count": 2,
     "metadata": {},
     "output_type": "execute_result"
    }
   ],
   "source": [
    "# carregando dados \n",
    "df_banking = pd.read_csv('../data/processed/bank_marketing_processed.csv')\n",
    "df_banking.head()"
   ]
  },
  {
   "cell_type": "code",
   "execution_count": 3,
   "id": "993b2d26",
   "metadata": {},
   "outputs": [
    {
     "data": {
      "text/plain": [
       "Index(['age', 'job', 'marital', 'education', 'default', 'housing', 'loan'], dtype='object')"
      ]
     },
     "execution_count": 3,
     "metadata": {},
     "output_type": "execute_result"
    }
   ],
   "source": [
    "# Verificando as colunas do DataFrame\n",
    "df_banking.columns"
   ]
  },
  {
   "cell_type": "markdown",
   "id": "4936d60f",
   "metadata": {},
   "source": [
    "## Dicionário de Variáveis\n",
    "\n",
    "\n",
    "|VARIÁVEL         |TRADUÇÃO             |\n",
    "|-----------------|---------------------|\n",
    "|Age              | Idade do cliente    |\n",
    "|Job              | Tipo de emprego     |\n",
    "|Marital          | Estado Civil        |\n",
    "|Education        | Nível de educação   |\n",
    "|Default          | Possui crédito em inadimplência ?|\n",
    "|Housing          | Possui empréstimo imobiliário ?|\n",
    "|loan             | Tem empréstimo pessoal ?| \n",
    "\n"
   ]
  },
  {
   "cell_type": "code",
   "execution_count": 4,
   "id": "2d508c6d",
   "metadata": {},
   "outputs": [
    {
     "data": {
      "text/plain": [
       "(41188, 7)"
      ]
     },
     "execution_count": 4,
     "metadata": {},
     "output_type": "execute_result"
    }
   ],
   "source": [
    "# Tamanho do dataset\n",
    "df_banking.shape"
   ]
  },
  {
   "cell_type": "code",
   "execution_count": 5,
   "id": "4305d0b5",
   "metadata": {},
   "outputs": [
    {
     "data": {
      "application/vnd.microsoft.datawrangler.viewer.v0+json": {
       "columns": [
        {
         "name": "index",
         "rawType": "object",
         "type": "string"
        },
        {
         "name": "0",
         "rawType": "object",
         "type": "unknown"
        }
       ],
       "ref": "33eb4aba-0e77-4f38-a5a4-f73b46361a53",
       "rows": [
        [
         "age",
         "object"
        ],
        [
         "job",
         "object"
        ],
        [
         "marital",
         "object"
        ],
        [
         "education",
         "object"
        ],
        [
         "default",
         "object"
        ],
        [
         "housing",
         "object"
        ],
        [
         "loan",
         "object"
        ]
       ],
       "shape": {
        "columns": 1,
        "rows": 7
       }
      },
      "text/plain": [
       "age          object\n",
       "job          object\n",
       "marital      object\n",
       "education    object\n",
       "default      object\n",
       "housing      object\n",
       "loan         object\n",
       "dtype: object"
      ]
     },
     "execution_count": 5,
     "metadata": {},
     "output_type": "execute_result"
    }
   ],
   "source": [
    "# verificando os tipos das variáveis\n",
    "df_banking.dtypes"
   ]
  },
  {
   "cell_type": "code",
   "execution_count": 6,
   "id": "450bb1d5",
   "metadata": {},
   "outputs": [
    {
     "data": {
      "application/vnd.microsoft.datawrangler.viewer.v0+json": {
       "columns": [
        {
         "name": "index",
         "rawType": "object",
         "type": "string"
        },
        {
         "name": "0",
         "rawType": "float64",
         "type": "float"
        }
       ],
       "ref": "6851de93-58bc-441b-b3ec-9db8380a0463",
       "rows": [
        [
         "age",
         "0.0"
        ],
        [
         "job",
         "0.0"
        ],
        [
         "marital",
         "0.0"
        ],
        [
         "education",
         "0.0"
        ],
        [
         "default",
         "0.0"
        ],
        [
         "housing",
         "0.0"
        ],
        [
         "loan",
         "0.0"
        ]
       ],
       "shape": {
        "columns": 1,
        "rows": 7
       }
      },
      "text/plain": [
       "age          0.0\n",
       "job          0.0\n",
       "marital      0.0\n",
       "education    0.0\n",
       "default      0.0\n",
       "housing      0.0\n",
       "loan         0.0\n",
       "dtype: float64"
      ]
     },
     "execution_count": 6,
     "metadata": {},
     "output_type": "execute_result"
    }
   ],
   "source": [
    "# Dados faltantes\n",
    "df_banking.isnull().sum()/len(df_banking)"
   ]
  },
  {
   "cell_type": "markdown",
   "id": "746f3593",
   "metadata": {},
   "source": [
    "De acordo com a célula anterior o dataset não possui valores faltantes em nenhuma das variáveis "
   ]
  },
  {
   "cell_type": "code",
   "execution_count": 7,
   "id": "9e55eb61",
   "metadata": {},
   "outputs": [
    {
     "name": "stdout",
     "output_type": "stream",
     "text": [
      "Tabela de Frequencia age\n"
     ]
    },
    {
     "data": {
      "application/vnd.microsoft.datawrangler.viewer.v0+json": {
       "columns": [
        {
         "name": "index",
         "rawType": "int64",
         "type": "integer"
        },
        {
         "name": "age",
         "rawType": "object",
         "type": "string"
        },
        {
         "name": "Frequencia",
         "rawType": "int64",
         "type": "integer"
        },
        {
         "name": "Percent",
         "rawType": "float64",
         "type": "float"
        }
       ],
       "ref": "098ee93b-a85d-4222-9ba6-fa1b5a08712f",
       "rows": [
        [
         "0",
         "Adult",
         "34326",
         "83.34"
        ],
        [
         "1",
         "young adult",
         "5664",
         "13.75"
        ],
        [
         "2",
         "Elderly",
         "1193",
         "2.9"
        ],
        [
         "3",
         "young",
         "5",
         "0.01"
        ],
        [
         "4",
         "Total",
         "41188",
         "100.0"
        ]
       ],
       "shape": {
        "columns": 3,
        "rows": 5
       }
      },
      "text/html": [
       "<div>\n",
       "<style scoped>\n",
       "    .dataframe tbody tr th:only-of-type {\n",
       "        vertical-align: middle;\n",
       "    }\n",
       "\n",
       "    .dataframe tbody tr th {\n",
       "        vertical-align: top;\n",
       "    }\n",
       "\n",
       "    .dataframe thead th {\n",
       "        text-align: right;\n",
       "    }\n",
       "</style>\n",
       "<table border=\"1\" class=\"dataframe\">\n",
       "  <thead>\n",
       "    <tr style=\"text-align: right;\">\n",
       "      <th></th>\n",
       "      <th>age</th>\n",
       "      <th>Frequencia</th>\n",
       "      <th>Percent</th>\n",
       "    </tr>\n",
       "  </thead>\n",
       "  <tbody>\n",
       "    <tr>\n",
       "      <th>0</th>\n",
       "      <td>Adult</td>\n",
       "      <td>34326</td>\n",
       "      <td>83.34</td>\n",
       "    </tr>\n",
       "    <tr>\n",
       "      <th>1</th>\n",
       "      <td>young adult</td>\n",
       "      <td>5664</td>\n",
       "      <td>13.75</td>\n",
       "    </tr>\n",
       "    <tr>\n",
       "      <th>2</th>\n",
       "      <td>Elderly</td>\n",
       "      <td>1193</td>\n",
       "      <td>2.90</td>\n",
       "    </tr>\n",
       "    <tr>\n",
       "      <th>3</th>\n",
       "      <td>young</td>\n",
       "      <td>5</td>\n",
       "      <td>0.01</td>\n",
       "    </tr>\n",
       "    <tr>\n",
       "      <th>4</th>\n",
       "      <td>Total</td>\n",
       "      <td>41188</td>\n",
       "      <td>100.00</td>\n",
       "    </tr>\n",
       "  </tbody>\n",
       "</table>\n",
       "</div>"
      ],
      "text/plain": [
       "           age  Frequencia  Percent\n",
       "0        Adult       34326    83.34\n",
       "1  young adult        5664    13.75\n",
       "2      Elderly        1193     2.90\n",
       "3        young           5     0.01\n",
       "4        Total       41188   100.00"
      ]
     },
     "metadata": {},
     "output_type": "display_data"
    },
    {
     "data": {
      "image/png": "[encoded data removed]",
      "text/plain": [
       "<Figure size 640x480 with 1 Axes>"
      ]
     },
     "metadata": {},
     "output_type": "display_data"
    }
   ],
   "source": [
    "analise_univariada(df_banking, 'age')"
   ]
  },
  {
   "cell_type": "code",
   "execution_count": null,
   "id": "5dc3d169",
   "metadata": {},
   "outputs": [],
   "source": []
  }
 ],
 "metadata": {
  "kernelspec": {
   "display_name": "venv",
   "language": "python",
   "name": "python3"
  },
  "language_info": {
   "codemirror_mode": {
    "name": "ipython",
    "version": 3
   },
   "file_extension": ".py",
   "mimetype": "text/x-python",
   "name": "python",
   "nbconvert_exporter": "python",
   "pygments_lexer": "ipython3",
   "version": "3.12.4"
  }
 },
 "nbformat": 4,
 "nbformat_minor": 5
}
